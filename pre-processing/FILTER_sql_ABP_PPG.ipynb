{
 "cells": [
  {
   "cell_type": "code",
   "execution_count": null,
   "metadata": {},
   "outputs": [],
   "source": [
    "import pandas as pd\n",
    "import json\n",
    "import numpy as np\n",
    "from ast import literal_eval\n",
    "import scipy.io as sio\n",
    "from scipy.stats import norm\n",
    "from datetime import datetime, timedelta\n",
    "#SQL\n",
    "import psycopg2 as pg2\n",
    "#Plots \n",
    "import matplotlib.pyplot as plt\n",
    "import seaborn as sns\n",
    "\n",
    "#Helpers\n",
    "from pre_processing import *\n",
    "\n",
    "#Others\n",
    "import warnings\n",
    "warnings.filterwarnings('ignore')"
   ]
  },
  {
   "cell_type": "markdown",
   "metadata": {},
   "source": [
    "[1) MIMIC_WAVEFORM_DATABASE_SQL](#MIMIC_WAVEFORM_DATABASE_SQL)\n",
    "\n",
    "* **df_filtered_signals**\n",
    "\n",
    "[2) MIMIC_CLINICAL_DATABASE_SQL](#MIMIC_CLINICAL_DATABASE_SQL)\n",
    "\n",
    "[2.a)ICU + HADM](#icu_hadm)\n",
    "\n",
    "* **df_filtered_signals_icu_hadm**\n",
    "\n",
    "[2.a) Age + Gender](#age_sex)\n",
    "\n",
    "* **df_filtered_signals_icu_hadm_age_sex**"
   ]
  },
  {
   "cell_type": "markdown",
   "metadata": {},
   "source": [
    "<a id='MIMIC_WAVEFORM_DATABASE_SQL'></a>"
   ]
  },
  {
   "cell_type": "markdown",
   "metadata": {},
   "source": [
    "# MIMIC WAVEFORM DATABASE SQL"
   ]
  },
  {
   "cell_type": "markdown",
   "metadata": {},
   "source": [
    "Use the mimic.pg_dump file to load the postgres database using psql database_name < mimic.pg_dump\n",
    "You can then query waveforms metadata in the notebook.\n",
    "\n",
    "**Thanks to @Dubrzr to share the Postgre-SQL for MIMIC-WFDB**\n",
    "Repository: https://github.com/Dubrzr/mimic3-scripts/tree/master/mimic3wdb-matched-metadata\n"
   ]
  },
  {
   "cell_type": "code",
   "execution_count": null,
   "metadata": {},
   "outputs": [],
   "source": [
    "parametros={}"
   ]
  },
  {
   "cell_type": "code",
   "execution_count": null,
   "metadata": {},
   "outputs": [],
   "source": [
    "info_columns = ['adc_gain', 'adc_res', 'adc_zero', 'baseline',\n",
    "       'block_size', 'comments', 'date_reliability', 'enddate', 'fmt',\n",
    "       'frequency', 'init_vals', 'length_ms', 'pxx', 'pxxxxxx', 'record',\n",
    "       'signals', 'startdate', 'subject_id', 'subrecord', 'type']"
   ]
  },
  {
   "cell_type": "code",
   "execution_count": null,
   "metadata": {},
   "outputs": [],
   "source": [
    "info_columns_drop = ['adc_gain', 'adc_res', 'adc_zero', 'baseline',\n",
    "       'block_size','fmt', 'init_vals','type','frequency']"
   ]
  },
  {
   "cell_type": "code",
   "execution_count": null,
   "metadata": {},
   "outputs": [],
   "source": [
    "signals_colums = ['%','ABP', 'ABPDias', 'ABPMean', 'ABPSys', 'AOBP', 'ART', 'AVF', 'AVL',\n",
    "       'AVR', 'CO', 'CVP', 'CVP_1/3', 'CVP_2/3', 'CVP_3/3', 'HR', 'I', 'ICP',\n",
    "       'II', 'III', 'LAP', 'MCL', 'MCL1', 'NBP', 'NBPDias', 'NBPMean',\n",
    "       'NBPSys', 'P1', 'PAP', 'PAPDias', 'PAPMean', 'PAPSys', 'PAWP', 'PLETH',\n",
    "       'PULSE', 'PVC', 'RAP', 'RAP_1/3', 'RAP_2/3', 'RAP_3/3', 'RESP', 'ST',\n",
    "       'ST_I', 'ST_II', 'UAP', 'UVP', 'V', 'V1', 'V2', 'dSpO2']"
   ]
  },
  {
   "cell_type": "code",
   "execution_count": null,
   "metadata": {},
   "outputs": [],
   "source": [
    "comorbidities_colums =['congestive_heart_failure', 'cardiac_arrhythmias','valvular_disease',\n",
    "               'pulmonary_circulation', 'peripheral_vascular','hypertension','paralysis',\n",
    "               'other_neurological','chronic_pulmonary','diabetes_uncomplicated',\n",
    "               'diabetes_complicated','hypothyroidism','renal_failure','liver_disease',\n",
    "               'peptic_ulcer','aids','lymphoma','metastatic_cancer','solid_tumor','rheumatoid_arthritis',\n",
    "               'coagulopathy','obesity','weight_loss','fluid_electrolyte','blood_loss_anemia',\n",
    "               'deficiency_anemias','alcohol_abuse','drug_abuse','psychoses','depression']"
   ]
  },
  {
   "cell_type": "code",
   "execution_count": null,
   "metadata": {},
   "outputs": [],
   "source": [
    "parametros['info_columns'] = info_columns\n",
    "parametros['signals_colums'] = signals_colums\n",
    "parametros['comorbidities_colums'] = comorbidities_colums"
   ]
  },
  {
   "cell_type": "code",
   "execution_count": null,
   "metadata": {},
   "outputs": [],
   "source": [
    "plot_path = 'figures/ABP_PPG/'\n",
    "parametros['plot_path'] = plot_path"
   ]
  },
  {
   "cell_type": "code",
   "execution_count": null,
   "metadata": {},
   "outputs": [],
   "source": [
    "#SQL Connection\n",
    "parametros['host'] = \"localhost\"\n",
    "parametros['database'] = \"mimic_wfdb\"\n",
    "parametros['user'] = \"mimic\"\n",
    "parametros['password'] = \"xxxx\"\n",
    "\n",
    "# SQL Query\n",
    "# Canales Seleccionados\n",
    "\n",
    "parametros['channels_selected_AND'] = ['PLETH'] #first 'n' channel_selected\n",
    "parametros['channels_selected_OR'] =['ABP','ART'] #this represent the lastone channel_selected\n",
    "\n",
    "parametros['channels_selected'] = ['PLETH','ABP'] #MANUALLY ADJUSTED [first AND channel, then OR]\n",
    "\n",
    "# Limite para borrar columa de NaN\n",
    "parametros['drop_nan_limit'] = 1\n",
    "# Configuracion de las señales\n",
    "parametros['fs'] = 125\n",
    "parametros['q_signal'] =  2\n",
    "parametros['ventana'] =  15    #segundos\n",
    "parametros['intervalo'] =  5   # minutos\n",
    "parametros['signal_i'] =  10   # minutos / otro criterio, discutir otros criterios\n",
    "parametros['minutos_min'] = parametros['signal_i'] + ( parametros['q_signal'] -1 )*parametros['intervalo']\n",
    "\n",
    "#Clincal Filters\n",
    "parametros['age_min'] = 18 #Min age\n",
    "parametros['age_max'] = 90 #Min age\n",
    "\n",
    "parametros['weight_min'] = 40\n",
    "parametros['weight_max'] = 180\n",
    "parametros['threshold_day'] = 2 # Used to alocate the icustay_id\n",
    "\n",
    "#Processing Thresholds [mmHg]\n",
    "parametros['DBP_low'] = 50\n",
    "parametros['SBP_low'] = 80\n",
    "parametros['DBP_high'] = 120\n",
    "parametros['SBP_high'] = 200\n",
    "parametros['delta_DBP_valley'] = 7\n",
    "parametros['delta_SBP_peak'] = 30"
   ]
  },
  {
   "cell_type": "code",
   "execution_count": null,
   "metadata": {
    "scrolled": false
   },
   "outputs": [],
   "source": [
    "df_filtered = func_sql_filtered(parametros)"
   ]
  },
  {
   "cell_type": "code",
   "execution_count": null,
   "metadata": {},
   "outputs": [],
   "source": [
    "print(f'Cantidad de Registros: {df_filtered.shape[0]}')\n",
    "print('Cantidad de Sujetos: {}'.format(np.shape(df_filtered['subject_id'].unique())[0]))"
   ]
  },
  {
   "cell_type": "markdown",
   "metadata": {},
   "source": [
    "# Saved Pre-Processing"
   ]
  },
  {
   "cell_type": "code",
   "execution_count": null,
   "metadata": {},
   "outputs": [],
   "source": [
    "\"\"\"json = json.dumps(parametros)\n",
    "f = open(\"../df_filtered/ABP_PPG/parametros.json\",\"w\")\n",
    "f.write(json)\n",
    "f.close()\n",
    "sio.savemat('../df_filtered/ABP_PPG/parametros.mat',parametros)\n",
    "df_filtered['startdate'] =  pd.to_datetime(df_filtered['startdate']).dt.date\n",
    "df_filtered = df_filtered.drop(columns=info_columns_drop)\n",
    "df_filtered.to_csv('../df_filtered/ABP_PPG/df_filtered_signals.csv')\n",
    "\"\"\""
   ]
  },
  {
   "cell_type": "markdown",
   "metadata": {},
   "source": [
    "# MIMIC CLINICAL DATABASE SQL"
   ]
  },
  {
   "cell_type": "markdown",
   "metadata": {},
   "source": [
    "* PSYCOPG2\n",
    "\n",
    "* Pandas (sql)    "
   ]
  },
  {
   "cell_type": "markdown",
   "metadata": {},
   "source": [
    "# Connection"
   ]
  },
  {
   "cell_type": "code",
   "execution_count": null,
   "metadata": {},
   "outputs": [],
   "source": [
    "#Conection\n",
    "conn = pg2.connect(\n",
    "host = \"localhost\",\n",
    "database = \"mimic\",\n",
    "user = \"postgres\",\n",
    "password = \"postgres\")\n",
    "#Cursor\n",
    "cursor = conn.cursor()\n",
    "#Adjust to the schema\n",
    "path2schema = \"SET search_path TO mimiciii;\"\n",
    "cursor.execute(path2schema)"
   ]
  },
  {
   "cell_type": "markdown",
   "metadata": {},
   "source": [
    "<a id='icu_hadm'></a>"
   ]
  },
  {
   "cell_type": "markdown",
   "metadata": {},
   "source": [
    "# Querys"
   ]
  },
  {
   "cell_type": "markdown",
   "metadata": {},
   "source": [
    "## ICU_ID and HADM_ID"
   ]
  },
  {
   "cell_type": "code",
   "execution_count": null,
   "metadata": {
    "scrolled": true
   },
   "outputs": [],
   "source": [
    "# 1) icu_id /hadm_id --> based on ICUSTAYS table FROM mimic\n",
    "#Usamos el subject_id en formato \"tuple\" para poder usarlo con el IN del query\n",
    "\n",
    "ids_sql = tuple(df_filtered['subject_id'].values.astype(int).tolist())\n",
    "\n",
    "text_sql = \"\"\"\n",
    "SELECT *\n",
    "FROM mimiciii.icustays AS I \n",
    "WHERE I.subject_id IN %s ORDER BY I.subject_id ASC;\n",
    "\"\"\"\n",
    "query_sql = cursor.mogrify(text_sql,(ids_sql,))"
   ]
  },
  {
   "cell_type": "code",
   "execution_count": null,
   "metadata": {},
   "outputs": [],
   "source": [
    "icu_hadm_df = pd.read_sql_query(query_sql, conn)\n",
    "icu_hadm_df = icu_hadm_df.rename(columns={\"intime\": \"startdate\"})\n",
    "icu_hadm_df['startdate'] =  pd.to_datetime(icu_hadm_df['startdate']).dt.date\n",
    "print(icu_hadm_df.shape)"
   ]
  },
  {
   "cell_type": "code",
   "execution_count": null,
   "metadata": {},
   "outputs": [],
   "source": [
    "df_filtered['icustay_id'] = np.nan\n",
    "df_filtered['hadm_id'] = np.nan\n",
    "\n",
    "for index, row in df_filtered.iterrows():\n",
    "    subject_id = row.subject_id\n",
    "    matches = icu_hadm_df.loc[(icu_hadm_df.subject_id == row.subject_id)]\n",
    "    if not matches.empty:\n",
    "        if (index % 1000)==0:\n",
    "            print(index,'Completed')\n",
    "        #Diference in days between record and all de icu entries\n",
    "        matches['deltas'] = (row.startdate - matches.startdate) / np.timedelta64(1, 'D') #to float\n",
    "        #Only between [ threshold < delta < LOS+threshold ]\n",
    "        matches = matches.loc[(-1*parametros['threshold_day']<= matches['deltas']) & (matches['deltas']<=np.ceil(matches['los'])+parametros['threshold_day'])]\n",
    "        #absolute difference\n",
    "        matches['deltas'] = matches['deltas'].abs()\n",
    "        if not matches.empty:\n",
    "            #min delta difference\n",
    "            d_idx = matches.deltas.idxmin()\n",
    "            #assing icustay_id & hadm_id to record (df_filtered)\n",
    "            df_filtered.loc[index,['icustay_id','hadm_id']] = matches.loc[d_idx,['icustay_id','hadm_id']]"
   ]
  },
  {
   "cell_type": "code",
   "execution_count": null,
   "metadata": {
    "scrolled": false
   },
   "outputs": [],
   "source": [
    "#NaN summarize\n",
    "print(f'Droping NaNs...')\n",
    "total = df_filtered.isnull().sum().sort_values(ascending=False)\n",
    "percent = (df_filtered.isnull().sum()/df_filtered.isnull().count()).sort_values(ascending=False)\n",
    "missing_data = pd.concat([total, percent], axis=1, keys=['Total', 'Percent'])\n",
    "print(missing_data)"
   ]
  },
  {
   "cell_type": "code",
   "execution_count": null,
   "metadata": {},
   "outputs": [],
   "source": [
    "#Drop Nan\n",
    "df_filtered = df_filtered.dropna()\n",
    "print(df_filtered.shape)"
   ]
  },
  {
   "cell_type": "code",
   "execution_count": null,
   "metadata": {},
   "outputs": [],
   "source": [
    "df_filtered.icustay_id = df_filtered.icustay_id.astype(int)\n",
    "df_filtered.hadm_id = df_filtered.hadm_id.astype(int)"
   ]
  },
  {
   "cell_type": "code",
   "execution_count": null,
   "metadata": {},
   "outputs": [],
   "source": [
    "print(f'Cantidad de Registros: {df_filtered.shape[0]}')\n",
    "print('Cantidad de Sujetos: {}'.format(np.shape(df_filtered['subject_id'].unique())[0]))"
   ]
  },
  {
   "cell_type": "code",
   "execution_count": null,
   "metadata": {},
   "outputs": [],
   "source": [
    "#df_filtered.to_csv('../df_filtered/ABP_PPG/df_filtered_signals_icu_hadm.csv')"
   ]
  },
  {
   "cell_type": "markdown",
   "metadata": {},
   "source": [
    "<a id='age_sex'></a>"
   ]
  },
  {
   "cell_type": "markdown",
   "metadata": {},
   "source": [
    "## Age and Gender"
   ]
  },
  {
   "cell_type": "code",
   "execution_count": null,
   "metadata": {},
   "outputs": [],
   "source": [
    "# 2)age, gender from --> icu_details\n",
    "icu_ids_sql = tuple(df_filtered['icustay_id'].values.astype(int).tolist())\n",
    "\n",
    "text_sql = \"\"\"\n",
    "SELECT ID.icustay_id , ID.age, ID.gender,ID.los_hospital, ID.los_icu\n",
    "FROM mimiciii.icustay_detail AS ID \n",
    "WHERE ID.icustay_id IN %s;\n",
    "\"\"\"\n",
    "query_sql = cursor.mogrify(text_sql,(icu_ids_sql,))"
   ]
  },
  {
   "cell_type": "code",
   "execution_count": null,
   "metadata": {},
   "outputs": [],
   "source": [
    "sex_dob_df = pd.read_sql_query(query_sql, conn)\n",
    "print(sex_dob_df.shape)"
   ]
  },
  {
   "cell_type": "code",
   "execution_count": null,
   "metadata": {},
   "outputs": [],
   "source": [
    "df_filtered = df_filtered.merge(sex_dob_df,how='inner',on='icustay_id')\n",
    "df_filtered.shape"
   ]
  },
  {
   "cell_type": "code",
   "execution_count": null,
   "metadata": {},
   "outputs": [],
   "source": [
    "df_filtered = df_filtered.loc[(df_filtered['age']>=parametros['age_min'])\\\n",
    "                              &(df_filtered['age']<=parametros['age_max'])]\n",
    "print(df_filtered.shape)"
   ]
  },
  {
   "cell_type": "code",
   "execution_count": null,
   "metadata": {
    "scrolled": false
   },
   "outputs": [],
   "source": [
    "n_bins = 70\n",
    "figure = plt.figure(figsize=(15,8))\n",
    "plt.hist([df_filtered[df_filtered['gender']=='M']['age'], df_filtered[df_filtered['gender']=='F']['age']], stacked=True, bins=n_bins, label=['Male','Female'])\n",
    "plt.xlabel('Age')\n",
    "plt.ylabel('Number of records')\n",
    "plt.legend()\n",
    "plot_name = str(plot_path+'sex_age'+\".eps\")\n",
    "plt.savefig(plot_name, dpi=150,bbox_inches = \"tight\")\n",
    "plt.show()\n",
    "\n",
    "print(f'Cantidad de Registros: {df_filtered.shape[0]}')\n",
    "print('Cantidad de Sujetos: {}'.format(np.shape(df_filtered['subject_id'].unique())[0]))"
   ]
  },
  {
   "cell_type": "code",
   "execution_count": null,
   "metadata": {},
   "outputs": [],
   "source": [
    "#df_filtered.to_csv('../df_filtered/ABP_PPG/df_filtered_signals_icu_hadm_sex_age.csv')"
   ]
  },
  {
   "cell_type": "markdown",
   "metadata": {},
   "source": [
    "<a id='peso_altura'></a>"
   ]
  },
  {
   "cell_type": "markdown",
   "metadata": {},
   "source": [
    "### Close Conection"
   ]
  },
  {
   "cell_type": "code",
   "execution_count": null,
   "metadata": {},
   "outputs": [],
   "source": [
    "conn.close"
   ]
  }
 ],
 "metadata": {
  "kernelspec": {
   "display_name": "Python 3",
   "language": "python",
   "name": "python3"
  },
  "language_info": {
   "codemirror_mode": {
    "name": "ipython",
    "version": 3
   },
   "file_extension": ".py",
   "mimetype": "text/x-python",
   "name": "python",
   "nbconvert_exporter": "python",
   "pygments_lexer": "ipython3",
   "version": "3.6.8"
  }
 },
 "nbformat": 4,
 "nbformat_minor": 2
}
