{
 "cells": [
  {
   "cell_type": "code",
   "execution_count": null,
   "metadata": {
    "colab": {
     "base_uri": "https://localhost:8080/"
    },
    "executionInfo": {
     "elapsed": 4564,
     "status": "ok",
     "timestamp": 1606064918884,
     "user": {
      "displayName": "Nicolas Aguirre",
      "photoUrl": "https://lh3.googleusercontent.com/a-/AOh14GjQfPiLxWme8kkxP92950-9jF1QGUs_5FsIVer1Jg=s64",
      "userId": "17499392061323227857"
     },
     "user_tz": -60
    },
    "id": "zz9kqJKbldnO",
    "outputId": "50de297c-c77a-4d13-a81a-2264e0be6519"
   },
   "outputs": [],
   "source": [
    "import torch\n",
    "print(torch.__version__)\n",
    "import torch.nn as nn\n",
    "from torch.utils.data import TensorDataset,Dataset\n",
    "from torch.utils.data import DataLoader\n",
    "from torchsummary import summary\n",
    "import torch.nn.functional as F\n",
    "device = torch.device(\"cuda\" if torch.cuda.is_available() else \"cpu\")\n",
    "device"
   ]
  },
  {
   "cell_type": "code",
   "execution_count": null,
   "metadata": {
    "colab": {
     "base_uri": "https://localhost:8080/"
    },
    "executionInfo": {
     "elapsed": 9959,
     "status": "ok",
     "timestamp": 1606064930048,
     "user": {
      "displayName": "Nicolas Aguirre",
      "photoUrl": "https://lh3.googleusercontent.com/a-/AOh14GjQfPiLxWme8kkxP92950-9jF1QGUs_5FsIVer1Jg=s64",
      "userId": "17499392061323227857"
     },
     "user_tz": -60
    },
    "id": "Empc5wtX-gy7",
    "outputId": "0d33d682-4b60-4894-9e8a-d7ac05eb1f2f"
   },
   "outputs": [],
   "source": [
    "!pip install gputil\n",
    "!pip install psutil\n",
    "!pip install humanize\n",
    "\n",
    "# Import packages\n",
    "import os,sys,humanize,psutil,GPUtil\n",
    "import gc\n",
    "\n",
    "# Define function\n",
    "def mem_report():\n",
    "  print(\"CPU RAM Free: \" + humanize.naturalsize( psutil.virtual_memory().available ))\n",
    "  \n",
    "  GPUs = GPUtil.getGPUs()\n",
    "  for i, gpu in enumerate(GPUs):\n",
    "    print('GPU {:d} ... Mem Free: {:.0f}MB / {:.0f}MB | Utilization {:3.0f}%'.format(i, gpu.memoryFree, gpu.memoryTotal, gpu.memoryUtil*100))\n",
    "    \n",
    "# Execute function"
   ]
  },
  {
   "cell_type": "code",
   "execution_count": null,
   "metadata": {
    "colab": {
     "base_uri": "https://localhost:8080/"
    },
    "executionInfo": {
     "elapsed": 9708,
     "status": "ok",
     "timestamp": 1606064930049,
     "user": {
      "displayName": "Nicolas Aguirre",
      "photoUrl": "https://lh3.googleusercontent.com/a-/AOh14GjQfPiLxWme8kkxP92950-9jF1QGUs_5FsIVer1Jg=s64",
      "userId": "17499392061323227857"
     },
     "user_tz": -60
    },
    "id": "HaKW3VFSLwy1",
    "outputId": "61082d60-7732-4260-be40-8c1218683e7b"
   },
   "outputs": [],
   "source": [
    "torch.cuda.empty_cache()\n",
    "gc.collect()\n",
    "mem_report()\n",
    "!nvidia-smi"
   ]
  },
  {
   "cell_type": "code",
   "execution_count": null,
   "metadata": {
    "colab": {
     "base_uri": "https://localhost:8080/"
    },
    "executionInfo": {
     "elapsed": 70829,
     "status": "ok",
     "timestamp": 1606065003298,
     "user": {
      "displayName": "Nicolas Aguirre",
      "photoUrl": "https://lh3.googleusercontent.com/a-/AOh14GjQfPiLxWme8kkxP92950-9jF1QGUs_5FsIVer1Jg=s64",
      "userId": "17499392061323227857"
     },
     "user_tz": -60
    },
    "id": "6So4hgcdldk7",
    "outputId": "bb751d53-8f6d-4ff4-f518-df9714a1f8d2"
   },
   "outputs": [],
   "source": [
    "from google.colab import drive\n",
    "drive.mount('/content/gdrive',force_remount=True)"
   ]
  },
  {
   "cell_type": "code",
   "execution_count": null,
   "metadata": {
    "id": "4NgwTHV8ldig"
   },
   "outputs": [],
   "source": [
    "import sys\n",
    "sys.path.append('/content/gdrive/My\\ Drive')"
   ]
  },
  {
   "cell_type": "code",
   "execution_count": null,
   "metadata": {
    "id": "FKEhX43bmQjo"
   },
   "outputs": [],
   "source": [
    "%load_ext autoreload\n",
    "%autoreload 2"
   ]
  },
  {
   "cell_type": "markdown",
   "metadata": {
    "id": "fyAARhEGLt3h"
   },
   "source": [
    "# IMPORTS"
   ]
  },
  {
   "cell_type": "code",
   "execution_count": null,
   "metadata": {
    "id": "VsikwuqOlRss"
   },
   "outputs": [],
   "source": [
    "import sys\n",
    "sys.path.append('/content/gdrive/My\\ Drive/ADJUST TO YOUR PATH/deep_learning/')\n",
    "sys.path.append('/content/gdrive/My\\ Drive/ADJUST TO YOUR PATH/deep_learning/dataloaders/')\n",
    "sys.path.append('/content/gdrive/My\\ Drive/ADJUST TO YOUR PATH/deep_learning/models/')\n",
    "sys.path.append('/content/gdrive/My\\ Drive/ADJUST TO YOUR PATH/deep_learning/training/')\n",
    "\n",
    "import helpers_PPG2IABP\n",
    "\n",
    "# Librerias\n",
    "import scipy.io as sio\n",
    "import pandas as pd\n",
    "import json\n",
    "import numpy as np\n",
    "import itertools\n",
    "import operator\n",
    "import random\n",
    "import os\n",
    "import math\n",
    "import copy\n",
    "\n",
    "import dataloaders\n",
    "import PPG2IABP\n",
    "import simple_training_v5\n",
    "\n",
    "\n",
    "#Plot\n",
    "import matplotlib.pyplot as plt\n",
    "from matplotlib.collections import LineCollection\n",
    "import seaborn as sns\n",
    "\n",
    "\n",
    "from sklearn.model_selection import train_test_split\n",
    "from sklearn.preprocessing import MinMaxScaler, StandardScaler\n",
    "from scipy import signal\n",
    "from scipy.fft import fft\n",
    "from scipy.stats import norm\n",
    "from sklearn.metrics import r2_score, mean_squared_error, mean_absolute_error\n",
    "from scipy.stats import pearsonr"
   ]
  },
  {
   "cell_type": "code",
   "execution_count": null,
   "metadata": {
    "id": "4Jmev1P25Ful"
   },
   "outputs": [],
   "source": [
    "folders_dict={}\n",
    "version = 'Mix_yes_CI'\n",
    "\n",
    "zip_path =\"/content/gdrive/My\\ Drive/ADJUST TO YOUR PATH/datasets/\"\n",
    "df_path = \"/content/gdrive/My\\ Drive/ADJUST TO YOUR PATH/df_filtered/\"\n",
    "plot_path = \"/content/gdrive/My\\ Drive/ADJUST TO YOUR PATH//\"+version+\"/figures/\"\n",
    "\n",
    "folders_dict['ABP_PPG'] = {'zip_path':zip_path+\"ABP_PPG.zip\",\n",
    "                           'df_path':df_path+\"ABP_PPG/\"}\n",
    "\n",
    "df_files = {}\n",
    "df_files['sex_age'] = 'df_filtered_signals_icu_hadm_sex_age.csv'"
   ]
  },
  {
   "cell_type": "code",
   "execution_count": null,
   "metadata": {
    "id": "TstR0zpB7IfY"
   },
   "outputs": [],
   "source": [
    "dataset = \"ABP_PPG\"\n",
    "df_file_name = 'sex_age'\n",
    "zip_adress = folders_dict[dataset]['zip_path']\n",
    "zip_name = zip_adress[len(zip_path):]\n",
    "signals_path = '/content/gdrive/My\\ Drive/ADJUST TO YOUR PATH/dataset/'\n",
    "df_path = folders_dict[dataset]['df_path']"
   ]
  },
  {
   "cell_type": "code",
   "execution_count": null,
   "metadata": {
    "id": "w0sN1uxVOKtG"
   },
   "outputs": [],
   "source": [
    "#!rm -rf /content/dataset"
   ]
  },
  {
   "cell_type": "code",
   "execution_count": null,
   "metadata": {
    "colab": {
     "base_uri": "https://localhost:8080/"
    },
    "executionInfo": {
     "elapsed": 19945,
     "status": "ok",
     "timestamp": 1606065029727,
     "user": {
      "displayName": "Nicolas Aguirre",
      "photoUrl": "https://lh3.googleusercontent.com/a-/AOh14GjQfPiLxWme8kkxP92950-9jF1QGUs_5FsIVer1Jg=s64",
      "userId": "17499392061323227857"
     },
     "user_tz": -60
    },
    "id": "xhU1CsnG9RXB",
    "outputId": "fdcb19fd-dd85-4114-8fe8-4121d6fc0958"
   },
   "outputs": [],
   "source": [
    "!cp -r $zip_adress /content/\n",
    "!mkdir /content/dataset\n",
    "!unzip $zip_name -d /content/dataset\n",
    "!rm $zip_name"
   ]
  },
  {
   "cell_type": "code",
   "execution_count": null,
   "metadata": {
    "colab": {
     "base_uri": "https://localhost:8080/",
     "height": 35
    },
    "executionInfo": {
     "elapsed": 19694,
     "status": "ok",
     "timestamp": 1606065029728,
     "user": {
      "displayName": "Nicolas Aguirre",
      "photoUrl": "https://lh3.googleusercontent.com/a-/AOh14GjQfPiLxWme8kkxP92950-9jF1QGUs_5FsIVer1Jg=s64",
      "userId": "17499392061323227857"
     },
     "user_tz": -60
    },
    "id": "RbWHM2C69Rmr",
    "outputId": "b7a710b6-fc0c-4706-bc45-6de2666ec974"
   },
   "outputs": [],
   "source": [
    "\"\"\"%cd /content/dataset/\n",
    "!zip -r ABP_PPG.zip ABP_PPG\"\"\""
   ]
  },
  {
   "cell_type": "code",
   "execution_count": null,
   "metadata": {
    "id": "tvu8u-MYlRtN"
   },
   "outputs": [],
   "source": [
    "signals_path = signals_path + dataset + '/'\n",
    "completed = helpers_PPG2IABP.loadmat(signals_path+'completed')\n",
    "completed = completed['completed']\n",
    "\n",
    "sum_cycles = 0\n",
    "sum_f = 0\n",
    "sum_p = 0\n",
    "sum_fe = 0\n",
    "sum_ppg = 0\n",
    "sum_abp = 0\n",
    "\n",
    "n_total_files = np.size(completed)\n",
    "\n",
    "for i in np.arange(0,n_total_files):\n",
    "    #if completed[i].status ==1:\n",
    "    sum_cycles = sum_cycles + completed[i].count_cycles\n",
    "    sum_f = sum_f + completed[i].count_f\n",
    "    sum_p = sum_p + completed[i].count_p\n",
    "    sum_fe = sum_fe + completed[i].count_fe\n",
    "    sum_ppg = sum_ppg + completed[i].count_fe_ppg\n",
    "    sum_abp = sum_abp + completed[i].count_fe_abp"
   ]
  },
  {
   "cell_type": "markdown",
   "metadata": {
    "id": "0BaMfE3ElRtX"
   },
   "source": [
    "# Processing Results: Causes of fail"
   ]
  },
  {
   "cell_type": "code",
   "execution_count": null,
   "metadata": {
    "colab": {
     "base_uri": "https://localhost:8080/"
    },
    "executionInfo": {
     "elapsed": 20311,
     "status": "ok",
     "timestamp": 1606065031210,
     "user": {
      "displayName": "Nicolas Aguirre",
      "photoUrl": "https://lh3.googleusercontent.com/a-/AOh14GjQfPiLxWme8kkxP92950-9jF1QGUs_5FsIVer1Jg=s64",
      "userId": "17499392061323227857"
     },
     "user_tz": -60
    },
    "id": "D2j9u1s9lRtZ",
    "outputId": "a5d84a78-a22a-469c-f36e-0e5d514c92f8",
    "scrolled": true
   },
   "outputs": [],
   "source": [
    "per_sum_f = np.round((sum_f / sum_cycles)*100,2)\n",
    "per_sum_p = np.round((sum_p / sum_cycles)*100,2)\n",
    "per_fe = np.round((sum_fe / sum_cycles)*100,2)\n",
    "per_ppg = np.round((sum_ppg / sum_fe)*100,2)\n",
    "per_abp = np.round((sum_abp / sum_fe)*100,2)\n",
    "\n",
    "print(f' Flat: {per_sum_f}% \\r\\n Peaks: {per_sum_p}% \\r\\n F.Extraction: {per_fe}% ( PPG: {per_ppg}% | ABP:{per_abp}% ) \\r\\n')"
   ]
  },
  {
   "cell_type": "markdown",
   "metadata": {
    "id": "jacKSdgNlRtk"
   },
   "source": [
    "### Signals DB"
   ]
  },
  {
   "cell_type": "code",
   "execution_count": null,
   "metadata": {
    "colab": {
     "base_uri": "https://localhost:8080/"
    },
    "executionInfo": {
     "elapsed": 19935,
     "status": "ok",
     "timestamp": 1606065031211,
     "user": {
      "displayName": "Nicolas Aguirre",
      "photoUrl": "https://lh3.googleusercontent.com/a-/AOh14GjQfPiLxWme8kkxP92950-9jF1QGUs_5FsIVer1Jg=s64",
      "userId": "17499392061323227857"
     },
     "user_tz": -60
    },
    "id": "upzUEl8llRtl",
    "outputId": "5f37a183-2084-4e2a-e2e5-9de1a0a69c74"
   },
   "outputs": [],
   "source": [
    "from os import listdir\n",
    "from os.path import isfile, join\n",
    "#list of all files in 'signals_path'\n",
    "files_processed = [f for f in listdir(signals_path) if isfile(join(signals_path, f))]\n",
    "files_processed.sort()\n",
    "files_processed = files_processed[:-2] # to eliminate 'completed.mat'\n",
    "files_processed = [x[:-4] for x in files_processed]\n",
    "np.shape(files_processed)"
   ]
  },
  {
   "cell_type": "markdown",
   "metadata": {
    "id": "We_f1OO9lRuL"
   },
   "source": [
    "# 2) PPG --> Mean_Pulse"
   ]
  },
  {
   "cell_type": "markdown",
   "metadata": {
    "id": "GnfALRkIlRt8"
   },
   "source": [
    "# Parameters"
   ]
  },
  {
   "cell_type": "code",
   "execution_count": null,
   "metadata": {
    "colab": {
     "base_uri": "https://localhost:8080/"
    },
    "executionInfo": {
     "elapsed": 19218,
     "status": "ok",
     "timestamp": 1606065031447,
     "user": {
      "displayName": "Nicolas Aguirre",
      "photoUrl": "https://lh3.googleusercontent.com/a-/AOh14GjQfPiLxWme8kkxP92950-9jF1QGUs_5FsIVer1Jg=s64",
      "userId": "17499392061323227857"
     },
     "user_tz": -60
    },
    "id": "90VZdsFFlRuB",
    "outputId": "15388029-061b-4732-db48-468d2e127c29",
    "scrolled": true
   },
   "outputs": [],
   "source": [
    "#Load file example\n",
    "file = helpers_PPG2IABP.loadmat(signals_path+files_processed[0])\n",
    "file = file['signal_processing']\n",
    "with open(df_path+'parametros.json') as json_file:\n",
    "    parametros = json.load(json_file)\n",
    "    \n",
    "    \n",
    "# Parameters\n",
    "fs = parametros['fs']\n",
    "q_files_processed = np.shape(files_processed)[0] #Qty of files\n",
    "q_signals_file = parametros['q_signal'] #np.shape(file)[0] )\n",
    "channels_selected = parametros['channels_selected']\n",
    "q_channels = len(channels_selected)\n",
    "channels_selected = {k: v for v, k in enumerate(channels_selected)}\n",
    "\n",
    "if q_channels > 1:\n",
    "  len_signal = np.shape(file[0].signal[0])[0] # Length of each signal\n",
    "else:\n",
    "  len_signal = np.shape(file[0].signal)[0] # Length of each signal\n",
    "DBP_low = parametros['DBP_low']\n",
    "ppg_margin = 20 # from matlab code \"make_matrices.m\", #line 106 and 107\n",
    "\n",
    "print(f' q_files_ok: {q_files_processed}\\r\\n q_signals: {q_signals_file} [Qty of signals/file]\\r\\n q_channels: {q_channels}\\r\\n len_signal: {len_signal}\\r\\n')"
   ]
  },
  {
   "cell_type": "code",
   "execution_count": null,
   "metadata": {
    "id": "lBrIKWz19Yuj"
   },
   "outputs": [],
   "source": [
    "q_signals_file = 2"
   ]
  },
  {
   "cell_type": "markdown",
   "metadata": {
    "id": "IDgEYYVulRtt"
   },
   "source": [
    "### Clinical DB"
   ]
  },
  {
   "cell_type": "code",
   "execution_count": null,
   "metadata": {
    "colab": {
     "base_uri": "https://localhost:8080/"
    },
    "executionInfo": {
     "elapsed": 18885,
     "status": "ok",
     "timestamp": 1606065032550,
     "user": {
      "displayName": "Nicolas Aguirre",
      "photoUrl": "https://lh3.googleusercontent.com/a-/AOh14GjQfPiLxWme8kkxP92950-9jF1QGUs_5FsIVer1Jg=s64",
      "userId": "17499392061323227857"
     },
     "user_tz": -60
    },
    "id": "aOUcuz1ElRtv",
    "outputId": "d148728b-f201-43a7-c1ed-06cdc3d8290a"
   },
   "outputs": [],
   "source": [
    "df_o = pd.read_csv(df_path+df_files[df_file_name],index_col=0)\n",
    "df_o.isnull().values.any()"
   ]
  },
  {
   "cell_type": "code",
   "execution_count": null,
   "metadata": {
    "colab": {
     "base_uri": "https://localhost:8080/"
    },
    "executionInfo": {
     "elapsed": 18419,
     "status": "ok",
     "timestamp": 1606065032551,
     "user": {
      "displayName": "Nicolas Aguirre",
      "photoUrl": "https://lh3.googleusercontent.com/a-/AOh14GjQfPiLxWme8kkxP92950-9jF1QGUs_5FsIVer1Jg=s64",
      "userId": "17499392061323227857"
     },
     "user_tz": -60
    },
    "id": "f8Gs3JExnREF",
    "outputId": "bdd234d9-66f5-4cf0-dbd6-72891d134e36"
   },
   "outputs": [],
   "source": [
    "df_o = df_o[df_o['subrecord'].isin(files_processed)]\n",
    "files_ok = df_o['subrecord'].values.tolist()\n",
    "q_files = df_o.shape[0]\n",
    "print(f'Cantidad de Registros: {q_files}')\n",
    "print('Cantidad de Sujetos: {}'.format(np.shape(df_o['subject_id'].unique())[0]))"
   ]
  },
  {
   "cell_type": "code",
   "execution_count": null,
   "metadata": {
    "cellView": "both",
    "id": "QaFRkBDoCnex"
   },
   "outputs": [],
   "source": [
    "fs = 125\n",
    "window_training = 5 #seconds\n",
    "max_n_records = 5 \n",
    "q_signals_file = 2\n",
    "all_plots = False\n",
    "\n",
    "t_size = 0.20\n",
    "r_seed = np.random.randint(0)\n",
    "\n",
    "sbp_threshold = 180\n",
    "duration_threshold = 150\n",
    "skew_threshold = 0.2\n",
    "\n",
    "post_beat_max = 15\n",
    "penalize_max_t = 15 # How many values penalize after the end of the beat\n",
    "\n",
    "#butter filter\n",
    "lowcut = 0.5\n",
    "highcut = 45\n",
    "order = 5\n",
    "\n",
    "#Apply a Savitzky-Golay filter\n",
    "window = 7\n",
    "ploy_grade = 3\n",
    "s_mode ='mirror'\n",
    "dx_n = 1\n",
    "mixed = True"
   ]
  },
  {
   "cell_type": "code",
   "execution_count": null,
   "metadata": {
    "id": "zb_PISVRCncW"
   },
   "outputs": [],
   "source": [
    "x_train,x_test,y_train,y_test,y_mask_train,y_mask_test,\\\n",
    "y_values_bp_train,y_values_bp_test,y_idx_bp_train,y_idx_bp_test,\\\n",
    "X_ci_train_scaled,X_ci_test_scaled, df_train, df_test,\\\n",
    "q_train,q_test,final_len_x,final_len_y,diff_window_ppg,scaler_P = helpers_PPG2IABP.func_x_y_sets(df_o,df_file_name,q_files,len_signal,channels_selected,\n",
    "                                                                  fs,window_training,max_n_records,\n",
    "                                                                  q_signals_file,t_size,r_seed,\n",
    "                                                                  sbp_threshold,duration_threshold,skew_threshold,\n",
    "                                                                  post_beat_max,penalize_max_t,\n",
    "                                                                  lowcut,highcut,order,\n",
    "                                                                  window,ploy_grade,s_mode,dx_n,\n",
    "                                                                  mixed,signals_path,all_plots=False)"
   ]
  },
  {
   "cell_type": "markdown",
   "metadata": {
    "id": "yKa1bI5DLSzg"
   },
   "source": [
    "# DATALOADER"
   ]
  },
  {
   "cell_type": "code",
   "execution_count": null,
   "metadata": {
    "id": "k3ErYRL6B_cm"
   },
   "outputs": [],
   "source": [
    "#Sets\n",
    "bs = 48\n",
    "test_bs = 48\n",
    "test_ds = dataloaders.Dataset_V5(x_test, X_ci_test_scaled,y_test,y_mask_test,final_len_x,diff_window_ppg,device)\n",
    "test_dl = DataLoader(test_ds, batch_size=test_bs, shuffle=False)\n",
    "\n",
    "test_dl_predict = DataLoader(test_ds, batch_size=1, shuffle=False) \n",
    "\n",
    "train_final_ds = dataloaders.Dataset_V5(x_train,X_ci_train_scaled,y_train,y_mask_train,final_len_x,diff_window_ppg,device)\n",
    "train_final_dl = DataLoader(train_final_ds, batch_size=bs, shuffle=True)"
   ]
  },
  {
   "cell_type": "markdown",
   "metadata": {
    "id": "EklbBskUN6o9"
   },
   "source": [
    "# Definitions"
   ]
  },
  {
   "cell_type": "code",
   "execution_count": null,
   "metadata": {
    "id": "gtPyYpDk0Edw"
   },
   "outputs": [],
   "source": [
    "path_save = \"/content/gdrive/My\\ Drive/ADJUST TO YOUR PATH/\"+version+\"/save/\"\n",
    "model_name = version+\".pt\"\n",
    "model_save = path_save + model_name"
   ]
  },
  {
   "cell_type": "code",
   "execution_count": null,
   "metadata": {
    "id": "qAkQCRR5SNO2"
   },
   "outputs": [],
   "source": [
    "hidden_size = 4\n",
    "encoder_ci = False\n",
    "input_size_ci = np.shape(X_ci_test_scaled)[1]\n",
    "if encoder_ci:\n",
    "  input_size_encoder = 1 + 1 + input_size_ci # por que incluyo el canal de la derivada\n",
    "else:\n",
    "  input_size_encoder = 1 + 1  # por que incluyo el canal de la derivada\n",
    " \n",
    "input_size_decoder = 1 + 4  # signal + label\n",
    " \n",
    "output_size_signal = 1\n",
    "output_size_segment = 4\n",
    "bidirectional_enc = True\n",
    " \n",
    "dropout = 0.015\n",
    "method='general'"
   ]
  },
  {
   "cell_type": "code",
   "execution_count": null,
   "metadata": {
    "colab": {
     "base_uri": "https://localhost:8080/"
    },
    "executionInfo": {
     "elapsed": 85291,
     "status": "ok",
     "timestamp": 1606065107161,
     "user": {
      "displayName": "Nicolas Aguirre",
      "photoUrl": "https://lh3.googleusercontent.com/a-/AOh14GjQfPiLxWme8kkxP92950-9jF1QGUs_5FsIVer1Jg=s64",
      "userId": "17499392061323227857"
     },
     "user_tz": -60
    },
    "id": "5GXd1jrSSjo1",
    "outputId": "29468d1d-e086-4b13-8ca8-9292f3ceee5d"
   },
   "outputs": [],
   "source": [
    "def seed_torch(seed=0):\n",
    "    random.seed(seed)\n",
    "    os.environ['PYTHONHASHSEED'] = str(seed)\n",
    "    np.random.seed(seed)\n",
    "    torch.manual_seed(seed)\n",
    "    torch.cuda.manual_seed(seed)\n",
    "    torch.backends.cudnn.deterministic = True\n",
    " \n",
    "seed_torch(r_seed)\n",
    " \n",
    "encoder = PPG2IABP.Encoder(input_size_encoder, hidden_size, bidirectional_enc).to(device)\n",
    " \n",
    "decoder = PPG2IABP.Decoder(input_size_decoder,input_size_encoder,input_size_ci, hidden_size,\n",
    "                  output_size_signal,output_size_segment,\n",
    "                  bidirectional_enc,dropout,method).to(device)\n",
    "                  \n",
    "model = PPG2IABP.Modelo(encoder, decoder,device).to(device)"
   ]
  },
  {
   "cell_type": "code",
   "execution_count": null,
   "metadata": {
    "colab": {
     "base_uri": "https://localhost:8080/"
    },
    "executionInfo": {
     "elapsed": 84840,
     "status": "ok",
     "timestamp": 1606065107162,
     "user": {
      "displayName": "Nicolas Aguirre",
      "photoUrl": "https://lh3.googleusercontent.com/a-/AOh14GjQfPiLxWme8kkxP92950-9jF1QGUs_5FsIVer1Jg=s64",
      "userId": "17499392061323227857"
     },
     "user_tz": -60
    },
    "id": "RWUblOViS6FK",
    "outputId": "05893039-a690-4eb7-b3e5-a32e0f2abcda"
   },
   "outputs": [],
   "source": [
    "print(f'The model has {helpers_PPG2IABP.count_parameters(model):,} trainable parameters')"
   ]
  },
  {
   "cell_type": "code",
   "execution_count": null,
   "metadata": {
    "id": "w9y2vBsKVXDf"
   },
   "outputs": [],
   "source": [
    "criterion_signal = nn.MSELoss(reduction='none')\n",
    "criterion_label = nn.NLLLoss()\n",
    " \n",
    "weight_label = 0.01\n",
    "\n",
    "l_rate = 1e-3\n",
    "optimizer = torch.optim.Adam(model.parameters(), lr=l_rate)\n",
    "patience_lim = 20\n",
    "sch_scale = 0.5\n",
    "scheduler = torch.optim.lr_scheduler.ReduceLROnPlateau(optimizer, 'min',patience=patience_lim,factor=sch_scale,verbose=True)"
   ]
  },
  {
   "cell_type": "code",
   "execution_count": null,
   "metadata": {
    "colab": {
     "base_uri": "https://localhost:8080/"
    },
    "executionInfo": {
     "elapsed": 88411,
     "status": "ok",
     "timestamp": 1605706954222,
     "user": {
      "displayName": "Nicolas Aguirre",
      "photoUrl": "https://lh3.googleusercontent.com/a-/AOh14GjQfPiLxWme8kkxP92950-9jF1QGUs_5FsIVer1Jg=s64",
      "userId": "17499392061323227857"
     },
     "user_tz": -60
    },
    "id": "5Pa_joveHvaT",
    "outputId": "e893f617-0a75-4511-e3b6-8f452f0eefa0"
   },
   "outputs": [],
   "source": [
    "torch.cuda.empty_cache()\n",
    "gc.collect()\n",
    "mem_report()"
   ]
  },
  {
   "cell_type": "markdown",
   "metadata": {
    "id": "PQ1FVVgyMCyT"
   },
   "source": [
    "# TRAINING"
   ]
  },
  {
   "cell_type": "code",
   "execution_count": null,
   "metadata": {
    "id": "Vr4QJzlAMEtV"
   },
   "outputs": [],
   "source": [
    "N_EPOCHS = 700\n",
    "clip_val = 3\n",
    " \n",
    "model, history = simple_training_v5.fit(N_EPOCHS,model,optimizer,scheduler,criterion_signal,criterion_label,\n",
    "         weight_label,clip_val,train_final_dl,q_train,test_dl,q_test,final_len_y,model_save,save=True,final=True)\n",
    "np.savez(model_save[:-3]+'_history_test_final',history)"
   ]
  },
  {
   "cell_type": "code",
   "execution_count": null,
   "metadata": {
    "id": "uuzlcFUsH4ir"
   },
   "outputs": [],
   "source": [
    "model,optimizer,scheduler,epoch_i,best_valid_loss,loss_train_history,loss_val_history = simple_training_v5.load_checkpoint(model,optimizer,scheduler,model_save,stage='final')"
   ]
  },
  {
   "cell_type": "code",
   "execution_count": null,
   "metadata": {
    "colab": {
     "base_uri": "https://localhost:8080/",
     "height": 1000
    },
    "executionInfo": {
     "elapsed": 5560,
     "status": "ok",
     "timestamp": 1605458686776,
     "user": {
      "displayName": "PhD UTT",
      "photoUrl": "",
      "userId": "17362774461992129822"
     },
     "user_tz": -60
    },
    "id": "C71u9svIG6j7",
    "outputId": "00e1d9af-12b0-4de5-83e0-f69f7c7e2b96"
   },
   "outputs": [],
   "source": [
    "factor = 0.5\n",
    "history_full = np.load(model_save[:-3]+'_history_test_final.npz',allow_pickle=True)\n",
    "train_history_full = history_full['arr_0'][0]\n",
    "val_history_full = history_full['arr_0'][1]\n",
    "\n",
    "\n",
    "#Total\n",
    "init_e = 0\n",
    "plt.plot(helpers_PPG2IABP.smooth_curve(train_history_full[0][init_e:], factor),label='Train',lw=1,c='r')\n",
    "plt.plot(helpers_PPG2IABP.smooth_curve(val_history_full[0][init_e:],factor),label='Test',lw=1, c='b')\n",
    "plt.vlines(x=epoch_i,ymin=0,ymax=1,colors='green')\n",
    "plt.ylim((0,0.0007))\n",
    "plt.xlabel('Epoch',fontsize=20)\n",
    "plt.ylabel('Loss',fontsize=20)\n",
    "plt.legend(fontsize='large')\n",
    "plot_name = str(plot_path+'Total_Losses')\n",
    "#plt.savefig(plot_name+\".eps\",bbox_inches = \"tight\")\n",
    "plt.show()\n",
    "#Signal Loss\n",
    "plt.plot(helpers_PPG2IABP.smooth_curve(train_history_full[1][init_e:], factor),label='Train',lw=1,c='r')\n",
    "plt.plot(helpers_PPG2IABP.smooth_curve(val_history_full[1][init_e:],factor),label='Test',lw=1, c='b')\n",
    "plt.vlines(x=epoch_i,ymin=0,ymax=1,colors='green')\n",
    "plt.ylim((0,0.0007))\n",
    "plt.xlabel('Epoch',fontsize=20)\n",
    "plt.ylabel('Loss',fontsize=20)\n",
    "plt.legend(fontsize='large')\n",
    "plot_name = str(plot_path+'Signal_Losses')\n",
    "#plt.savefig(plot_name+\".eps\",bbox_inches = \"tight\")\n",
    "plt.show()\n",
    "#Acc\n",
    "plt.plot(helpers_PPG2IABP.smooth_curve(train_history_full[3][init_e:], factor),label='Train',lw=1,c='r')\n",
    "plt.plot(helpers_PPG2IABP.smooth_curve(val_history_full[3][init_e:],factor),label='Test',lw=1, c='b')\n",
    "plt.vlines(x=epoch_i,ymin=0,ymax=100,colors='green')\n",
    "plt.ylim((80,100))\n",
    "plt.xlabel('Epoch',fontsize=20)\n",
    "plt.ylabel('Accuracy',fontsize=20)\n",
    "plt.legend(fontsize='large')\n",
    "plot_name = str(plot_path+'Accuracy')\n",
    "#plt.savefig(plot_name+\".eps\",bbox_inches = \"tight\")\n",
    "plt.show()\n",
    "#Label Loss\n",
    "plt.plot(helpers_PPG2IABP.smooth_curve(train_history_full[2][init_e:], factor),label='Train',lw=1,c='r')\n",
    "plt.plot(helpers_PPG2IABP.smooth_curve(val_history_full[2][init_e:],factor),label='Test',lw=1, c='b')\n",
    "plt.vlines(x=epoch_i,ymin=0,ymax=1,colors='green')\n",
    "plt.ylim((0,0.00007))\n",
    "plt.xlabel('Epoch',fontsize=20)\n",
    "plt.ylabel('Loss',fontsize=20)\n",
    "plt.legend(fontsize='large')\n",
    "plot_name = str(plot_path+'Label_Losses')\n",
    "#plt.savefig(plot_name+\".eps\",bbox_inches = \"tight\")\n",
    "plt.show()"
   ]
  },
  {
   "cell_type": "code",
   "execution_count": null,
   "metadata": {
    "colab": {
     "base_uri": "https://localhost:8080/"
    },
    "executionInfo": {
     "elapsed": 13853,
     "status": "ok",
     "timestamp": 1605458696408,
     "user": {
      "displayName": "PhD UTT",
      "photoUrl": "",
      "userId": "17362774461992129822"
     },
     "user_tz": -60
    },
    "id": "_lLsVK6HZVk0",
    "outputId": "c1cb834f-86cf-471c-964d-58e993b2ac18"
   },
   "outputs": [],
   "source": [
    "total_test_loss,signal_test_loss,label_test_loss, test_accuracy = simple_training_v5.evaluate(model, test_dl, criterion_signal,criterion_label, weight_label,q_test,final_len_y)\n",
    "total_train_loss = train_history_full[0][epoch_i]\n",
    "signal_train_loss = train_history_full[1][epoch_i]\n",
    "label_train_loss = train_history_full[2][epoch_i]\n",
    "train_accuracy =train_history_full[3][epoch_i]\n",
    "print('\\tTTrain_Loss: {:.8f}\\tSTrain_Loss: {:.8f}\\tLTrain_Loss: {:.8f}\\tAcc_Train: {:.8f}'.format(total_train_loss,signal_train_loss,label_train_loss,train_accuracy))\n",
    "print('\\tTT_Loss: {:.8f}\\tST_Loss: {:.8f}\\tLT_Loss: {:.8f}\\tAcc_Test: {:.8f}'.format(total_test_loss,signal_test_loss,label_test_loss, test_accuracy))"
   ]
  },
  {
   "cell_type": "markdown",
   "metadata": {
    "id": "hmADrWhJ6QTV"
   },
   "source": [
    "# TEST"
   ]
  },
  {
   "cell_type": "code",
   "execution_count": null,
   "metadata": {
    "id": "FVNI-jFskoqf"
   },
   "outputs": [],
   "source": [
    "x_test_mod, predictions, TT_Loss,ST_Loss,LT_Loss,Acc_Test,attentions = simple_training_v5.predict(model,test_dl,criterion_signal,criterion_label,\n",
    "                                                                                         weight_label,final_len_x,final_len_y)\n",
    "\n",
    "if torch.cuda.is_available():\n",
    "  predictions = predictions.to(torch.device(\"cpu\"))\n",
    "  x_test_mod = x_test_mod.to(torch.device(\"cpu\"))\n",
    "  attentions = attentions.to(torch.device(\"cpu\"))\n",
    "\n",
    "predictions = predictions.detach().numpy()\n",
    "x_test_mod = x_test_mod.detach().numpy()\n",
    "attentions = attentions.detach().numpy()"
   ]
  },
  {
   "cell_type": "code",
   "execution_count": null,
   "metadata": {
    "colab": {
     "base_uri": "https://localhost:8080/"
    },
    "executionInfo": {
     "elapsed": 20946,
     "status": "ok",
     "timestamp": 1605458704570,
     "user": {
      "displayName": "PhD UTT",
      "photoUrl": "",
      "userId": "17362774461992129822"
     },
     "user_tz": -60
    },
    "id": "2NWOjwC90V7I",
    "outputId": "7ae57284-3349-4209-a197-e17af43b5904"
   },
   "outputs": [],
   "source": [
    "print(TT_Loss,ST_Loss,LT_Loss,Acc_Test)"
   ]
  },
  {
   "cell_type": "code",
   "execution_count": null,
   "metadata": {
    "id": "SQ0Kfhwlqani"
   },
   "outputs": [],
   "source": [
    "x_test_mod = np.swapaxes(x_test_mod,1,2)"
   ]
  },
  {
   "cell_type": "code",
   "execution_count": null,
   "metadata": {
    "colab": {
     "base_uri": "https://localhost:8080/",
     "height": 664
    },
    "executionInfo": {
     "elapsed": 1390,
     "status": "ok",
     "timestamp": 1605280399612,
     "user": {
      "displayName": "Nicolas Aguirre",
      "photoUrl": "https://lh3.googleusercontent.com/a-/AOh14GjQfPiLxWme8kkxP92950-9jF1QGUs_5FsIVer1Jg=s64",
      "userId": "17499392061323227857"
     },
     "user_tz": -60
    },
    "id": "DxdMIQmn6H5v",
    "outputId": "af8b75df-93c3-415a-eca8-80bf85b2308e"
   },
   "outputs": [],
   "source": [
    "sgn = np.random.randint(0,high=q_test)\n",
    "input = x_test_mod[sgn,0:2,:] # PPG Y dPPG\n",
    "\n",
    "y_label_pred = np.argmax(predictions[sgn,:,1:5],axis=1)\n",
    "end_pred = np.where(y_label_pred==0)[0]\n",
    "#end_pred = [157]\n",
    "\n",
    "if np.shape(end_pred)[0] != 0:\n",
    "  end_pred = end_pred[0]\n",
    "  y_pred = predictions[sgn,:end_pred,0]\n",
    "  attention_weights = attentions[sgn,:,:end_pred]\n",
    "else:\n",
    "  y_pred = predictions[sgn,:,0]\n",
    "  attention_weights = attentions[sgn]\n",
    "\n",
    "y_bp_sys = y_pred.max()\n",
    "y_bp_dias = np.mean([y_pred[0],y_pred[-1]])\n",
    "y_bp = [y_bp_sys,y_bp_dias]\n",
    "\n",
    "cmap = 'jet'\n",
    "y_true = y_test[sgn,0,:]\n",
    "#y_true = predictions[sgn+20,:,0]\n",
    "\n",
    "fig1,ax1,ax2,ax3 = helpers_PPG2IABP.plot_attention(input,y_pred,attention_weights,y_true,y_label_pred,cmap)\n",
    "ax1.set_ylim((0,1))\n",
    "ax1.hlines(y_bp[0],xmin=0,xmax=final_len_y,color='m',linestyle='dashed')\n",
    "ax1.hlines(y_bp[1],xmin=0,xmax=final_len_y,color='m',linestyle='dashed')\n",
    "plt.show()"
   ]
  },
  {
   "cell_type": "markdown",
   "metadata": {
    "id": "Jjk6OxJznkjk"
   },
   "source": [
    "# CONTINUE TRAINING"
   ]
  },
  {
   "cell_type": "code",
   "execution_count": null,
   "metadata": {
    "id": "Dh_YqSkd3RTg"
   },
   "outputs": [],
   "source": [
    "model,optimizer,scheduler,epoch_i,best_valid_loss,loss_train_history,loss_val_history = simple_training_v5.load_checkpoint(model,optimizer,scheduler,model_save,'final')\n",
    "history = np.asarray([loss_train_history,loss_val_history])"
   ]
  },
  {
   "cell_type": "code",
   "execution_count": null,
   "metadata": {
    "id": "ba9omTZp06Cp"
   },
   "outputs": [],
   "source": [
    "N_EPOCHS = 500 - epoch_i\n",
    "clip_val = 3\n",
    "model,history = simple_training_v5.fit(N_EPOCHS,model,optimizer,scheduler,criterion_signal,criterion_label,\n",
    "         weight_label,clip_val,train_final_dl,q_train,test_dl,q_test,final_len_y,model_save,save=True,final=True,\n",
    "         e_i = epoch_i, history=history)\n",
    "np.savez(model_save[:-3]+'_history_test_final',history)"
   ]
  }
 ],
 "metadata": {
  "accelerator": "GPU",
  "colab": {
   "collapsed_sections": [
    "y_Vfms1Dky4-"
   ],
   "name": "V4_d.ipynb",
   "provenance": []
  },
  "kernelspec": {
   "display_name": "Python 3",
   "language": "python",
   "name": "python3"
  },
  "language_info": {
   "codemirror_mode": {
    "name": "ipython",
    "version": 3
   },
   "file_extension": ".py",
   "mimetype": "text/x-python",
   "name": "python",
   "nbconvert_exporter": "python",
   "pygments_lexer": "ipython3",
   "version": "3.7.9"
  }
 },
 "nbformat": 4,
 "nbformat_minor": 1
}
